{
 "cells": [
  {
   "cell_type": "markdown",
   "id": "cac5cffb",
   "metadata": {},
   "source": [
    "ДЗ к 2 уроку"
   ]
  },
  {
   "cell_type": "code",
   "execution_count": 16,
   "id": "79416d38",
   "metadata": {},
   "outputs": [],
   "source": [
    "# Множества\n",
    "\n",
    "A = {1, 2, 3}\n",
    "B = {2, 3, 4}\n",
    "C = {4, 5, 6}"
   ]
  },
  {
   "cell_type": "markdown",
   "id": "50e94d0e",
   "metadata": {},
   "source": [
    "Объединение  |, B.union(A)"
   ]
  },
  {
   "cell_type": "code",
   "execution_count": 12,
   "id": "9810b12b",
   "metadata": {},
   "outputs": [
    {
     "name": "stdout",
     "output_type": "stream",
     "text": [
      "{1, 2, 3, 4}\n",
      "{1, 2, 3, 4, 5, 6}\n",
      "{2, 3, 4, 5, 6}\n"
     ]
    }
   ],
   "source": [
    "print(A | B)\n",
    "print(A | C)\n",
    "print(B | C)"
   ]
  },
  {
   "cell_type": "markdown",
   "id": "a5467b93",
   "metadata": {},
   "source": [
    "Пересечение   &, B.intersection(A)"
   ]
  },
  {
   "cell_type": "code",
   "execution_count": 13,
   "id": "8b553fbf",
   "metadata": {},
   "outputs": [
    {
     "name": "stdout",
     "output_type": "stream",
     "text": [
      "{2, 3}\n",
      "set()\n",
      "{4}\n"
     ]
    }
   ],
   "source": [
    "print(A & B)\n",
    "print(A & C)\n",
    "print(B & C)"
   ]
  },
  {
   "cell_type": "markdown",
   "id": "e2c59f45",
   "metadata": {},
   "source": [
    "Разность  -, A.difference(B)"
   ]
  },
  {
   "cell_type": "code",
   "execution_count": 14,
   "id": "a7b4f6a8",
   "metadata": {},
   "outputs": [
    {
     "name": "stdout",
     "output_type": "stream",
     "text": [
      "{1}\n",
      "{4}\n",
      "{1, 2, 3}\n",
      "{4, 5, 6}\n",
      "{2, 3}\n",
      "{5, 6}\n"
     ]
    }
   ],
   "source": [
    "print(A - B)\n",
    "print(B - A)\n",
    "print(A - C)\n",
    "print(C - A)\n",
    "print(B - C)\n",
    "print(C - B)"
   ]
  },
  {
   "cell_type": "markdown",
   "id": "dac9fe2b",
   "metadata": {},
   "source": [
    "Симметрическая разность  ^, A.symmetric_difference(B)"
   ]
  },
  {
   "cell_type": "code",
   "execution_count": 15,
   "id": "08db8aa1",
   "metadata": {},
   "outputs": [
    {
     "name": "stdout",
     "output_type": "stream",
     "text": [
      "{1, 4}\n",
      "{1, 2, 3, 4, 5, 6}\n",
      "{2, 3, 5, 6}\n"
     ]
    }
   ],
   "source": [
    "print(A ^ B)\n",
    "print(A ^ C)\n",
    "print(B ^ C)"
   ]
  },
  {
   "cell_type": "code",
   "execution_count": null,
   "id": "f0eef84d",
   "metadata": {},
   "outputs": [],
   "source": []
  }
 ],
 "metadata": {
  "kernelspec": {
   "display_name": "Python 3",
   "language": "python",
   "name": "python3"
  },
  "language_info": {
   "codemirror_mode": {
    "name": "ipython",
    "version": 3
   },
   "file_extension": ".py",
   "mimetype": "text/x-python",
   "name": "python",
   "nbconvert_exporter": "python",
   "pygments_lexer": "ipython3",
   "version": "3.8.8"
  }
 },
 "nbformat": 4,
 "nbformat_minor": 5
}
