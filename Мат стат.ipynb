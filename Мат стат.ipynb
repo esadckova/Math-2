{
 "cells": [
  {
   "cell_type": "code",
   "execution_count": 1,
   "id": "fc201c69",
   "metadata": {},
   "outputs": [],
   "source": [
    "import numpy as np\n",
    "from scipy.stats import binom\n",
    "import seaborn as sb\n",
    "import matplotlib.pyplot as plt\n",
    "from scipy.stats import poisson\n",
    "import pandas as pd"
   ]
  },
  {
   "cell_type": "markdown",
   "id": "8d7b301f",
   "metadata": {},
   "source": [
    "Задачи 1 и 2\n",
    "Контрольная работа состоит из пяти вопросов. На каждый вопрос приведено четыре варианта ответа, один из которых правильный. Случайная величина X задаёт число правильных ответов при простом угадывании. Найдите математическое ожидание данной случайной величины. Найдите дисперсию случайной величины X.\n",
    "\n",
    "Подсказка: постройте закон распределения случайной величины X."
   ]
  },
  {
   "cell_type": "code",
   "execution_count": 2,
   "id": "2053b2a0",
   "metadata": {},
   "outputs": [
    {
     "data": {
      "text/plain": [
       "array([0.23730469, 0.39550781, 0.26367187, 0.08789062, 0.01464844,\n",
       "       0.00097656])"
      ]
     },
     "execution_count": 2,
     "metadata": {},
     "output_type": "execute_result"
    }
   ],
   "source": [
    "binom.pmf(k = (range(0, 6)), n = 5 , p = 0.25 )"
   ]
  },
  {
   "cell_type": "markdown",
   "id": "6667db32",
   "metadata": {},
   "source": [
    "Закон распределения:\t\n",
    "    \n",
    "    0\t        1\t         2\t        3             4          5\n",
    "0.23730469\t 0.39550781 \t0.26367187\t 0.08789062    0.01464844   0.00097656\n"
   ]
  },
  {
   "cell_type": "markdown",
   "id": "5cebac57",
   "metadata": {},
   "source": [
    "M(X) = np = 5 * 0.25 = 1.25"
   ]
  },
  {
   "cell_type": "markdown",
   "id": "45882fc5",
   "metadata": {},
   "source": [
    "D(X) = np(1 − p) = 5 * 0.25 * 0.75 = 0.9375"
   ]
  },
  {
   "cell_type": "markdown",
   "id": "7a4620e8",
   "metadata": {},
   "source": [
    "Задача 3\n",
    "Пользователь получает в среднем 10 писем со спамом на свой почтовый ящик за сутки. \n",
    "Найти число N, такое, что с вероятностью 0.95 пользователь получит не более N писем со спамом за текущий день."
   ]
  },
  {
   "cell_type": "code",
   "execution_count": 3,
   "id": "db6ee761",
   "metadata": {},
   "outputs": [
    {
     "data": {
      "text/plain": [
       "array([0.58303975, 0.69677615, 0.79155648, 0.86446442, 0.91654153,\n",
       "       0.9512596 ])"
      ]
     },
     "execution_count": 3,
     "metadata": {},
     "output_type": "execute_result"
    }
   ],
   "source": [
    "poisson.cdf(k=range(10, 16), mu = 10)\n"
   ]
  },
  {
   "cell_type": "code",
   "execution_count": 4,
   "id": "64483812",
   "metadata": {},
   "outputs": [
    {
     "data": {
      "text/plain": [
       "0.9512595966960213"
      ]
     },
     "execution_count": 4,
     "metadata": {},
     "output_type": "execute_result"
    }
   ],
   "source": [
    "poisson.cdf(k=15, mu=10)"
   ]
  },
  {
   "cell_type": "markdown",
   "id": "50c14f57",
   "metadata": {},
   "source": [
    "N = 15"
   ]
  },
  {
   "cell_type": "markdown",
   "id": "8be44f7d",
   "metadata": {},
   "source": [
    "Задача 4\n",
    "Производятся выстрелы по мишени. Вероятность попадания в мишень при одном выстреле равна 0.01. \n",
    "Сколько выстрелов нужно сделать чтобы быть уверенным с вероятностью 0.9, что хотя бы 6 раз будет совершено попадание?\n",
    "\n",
    "Подсказка: 1) \"Вероятность попасть k раз при n выстрелах\" - на какое распределение это похоже? \n",
    "           2) А если нам нужна вероятность P(X >= k), а не P(X = k)? 3) Здесь предстоит немножко покодить."
   ]
  },
  {
   "cell_type": "code",
   "execution_count": 7,
   "id": "58c63778",
   "metadata": {},
   "outputs": [
    {
     "data": {
      "text/plain": [
       "0.9004696213959408"
      ]
     },
     "execution_count": 7,
     "metadata": {},
     "output_type": "execute_result"
    }
   ],
   "source": [
    "poisson.cdf(k=6, mu = 3.89)"
   ]
  },
  {
   "cell_type": "code",
   "execution_count": null,
   "id": "dbb92a75",
   "metadata": {},
   "outputs": [],
   "source": [
    "Нужно произвести 389 выстрелов "
   ]
  }
 ],
 "metadata": {
  "kernelspec": {
   "display_name": "Python 3",
   "language": "python",
   "name": "python3"
  },
  "language_info": {
   "codemirror_mode": {
    "name": "ipython",
    "version": 3
   },
   "file_extension": ".py",
   "mimetype": "text/x-python",
   "name": "python",
   "nbconvert_exporter": "python",
   "pygments_lexer": "ipython3",
   "version": "3.8.8"
  }
 },
 "nbformat": 4,
 "nbformat_minor": 5
}
