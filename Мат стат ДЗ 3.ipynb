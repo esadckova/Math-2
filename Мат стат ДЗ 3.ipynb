{
 "cells": [
  {
   "cell_type": "markdown",
   "id": "b83416c8",
   "metadata": {},
   "source": [
    "Задача 1\n",
    "Даны значения зарплат из выборки выпускников:\n",
    "100, 80, 75, 77, 89, 33, 45, 25, 65, 17, 30, 230, 24, 57, 55, 70, 75, 65, 84, 90, 150\n",
    " \n",
    "Используя только встроенные питоновские функции и структуры данных (т.е. без библиотек numpy, pandas и др.), \n",
    "посчитайте (несмещённое) среднее квадратичное отклонение для данной выборки.\n"
   ]
  },
  {
   "cell_type": "code",
   "execution_count": 70,
   "id": "428ec57f",
   "metadata": {},
   "outputs": [],
   "source": [
    "from math import sqrt"
   ]
  },
  {
   "cell_type": "code",
   "execution_count": 71,
   "id": "c43c279a",
   "metadata": {},
   "outputs": [],
   "source": [
    "df = [100,80,75,77,89,33,45,25,65,17,30,230,24,57,55,70,75,65,84,90,150]"
   ]
  },
  {
   "cell_type": "code",
   "execution_count": 72,
   "id": "15224057",
   "metadata": {},
   "outputs": [
    {
     "data": {
      "text/plain": [
       "47.34795213553139"
      ]
     },
     "execution_count": 72,
     "metadata": {},
     "output_type": "execute_result"
    }
   ],
   "source": [
    "std = sqrt(sum((x-sum(df)/len(df))**2 for x in df)/(len(df)-1))\n",
    "std"
   ]
  },
  {
   "cell_type": "markdown",
   "id": "71cff13d",
   "metadata": {},
   "source": [
    "Задача 2\n",
    "Найдите число выбросов в выборке из задачи 1.\n",
    "Для определения выбросов используйте методику как при построении “усов” в boxplot, \n",
    "однако, как и в задаче 1, пользоваться можно только встроенными функциями и структурами данных.\n"
   ]
  },
  {
   "cell_type": "code",
   "execution_count": 73,
   "id": "5dfe826c",
   "metadata": {},
   "outputs": [],
   "source": [
    "q1 = sorted(df)[len(df) // 4]\n",
    "q3 = sorted(df)[3 * len(df) // 4]\n",
    "iqr = q3 - q1\n",
    "boxplot = (q1 - 1.5 * iqr, q3 + 1.5 * iqr)"
   ]
  },
  {
   "cell_type": "code",
   "execution_count": 74,
   "id": "57adeda8",
   "metadata": {},
   "outputs": [
    {
     "data": {
      "text/plain": [
       "[230, 150]"
      ]
     },
     "execution_count": 74,
     "metadata": {},
     "output_type": "execute_result"
    }
   ],
   "source": [
    "outlier = [i for i in df if i < boxplot[0] or i > boxplot[1]]\n",
    "outlier"
   ]
  },
  {
   "cell_type": "code",
   "execution_count": 75,
   "id": "f957dd55",
   "metadata": {},
   "outputs": [
    {
     "data": {
      "text/plain": [
       "2"
      ]
     },
     "execution_count": 75,
     "metadata": {},
     "output_type": "execute_result"
    }
   ],
   "source": [
    "len(outlier)"
   ]
  },
  {
   "cell_type": "markdown",
   "id": "321a9f21",
   "metadata": {},
   "source": [
    "В университет на факультет A поступило 100 человек, на факультет B - 90 человек и на факультет C - 45 человек. \n",
    "Вероятность того, что студент с факультета A сдаст первую сессию, равна 0.6. \n",
    "Для студента с факультета B эта вероятность равна 0.7, а для студента с факультета C - 0.8. \n",
    "Случайным образом выбирается студент, сдавший первую сессию. Какое событие наиболее вероятно:\n",
    "студент учится на факультете A,\n",
    "студент учится на факультете B,\n",
    "студент учится на факультете C?\n"
   ]
  },
  {
   "cell_type": "markdown",
   "id": "9e53dae1",
   "metadata": {},
   "source": [
    "Всего студентов"
   ]
  },
  {
   "cell_type": "code",
   "execution_count": 76,
   "id": "087096ee",
   "metadata": {},
   "outputs": [
    {
     "data": {
      "text/plain": [
       "235"
      ]
     },
     "execution_count": 76,
     "metadata": {},
     "output_type": "execute_result"
    }
   ],
   "source": [
    "st = 100 + 90 + 45\n",
    "st"
   ]
  },
  {
   "cell_type": "markdown",
   "id": "46ef96d8",
   "metadata": {},
   "source": [
    "Полная вероятность"
   ]
  },
  {
   "cell_type": "code",
   "execution_count": 77,
   "id": "6ebefa54",
   "metadata": {},
   "outputs": [
    {
     "data": {
      "text/plain": [
       "0.676595744680851"
      ]
     },
     "execution_count": 77,
     "metadata": {},
     "output_type": "execute_result"
    }
   ],
   "source": [
    "fp = (100 / st) * 0.6 +\\\n",
    "    (90 / st) * 0.7 + (45 / st) * 0.8\n",
    "fp"
   ]
  },
  {
   "cell_type": "code",
   "execution_count": 78,
   "id": "ba0f68ca",
   "metadata": {},
   "outputs": [
    {
     "data": {
      "text/plain": [
       "0.3773584905660377"
      ]
     },
     "execution_count": 78,
     "metadata": {},
     "output_type": "execute_result"
    }
   ],
   "source": [
    "A = (100 / st) * 0.6 / fp\n",
    "A"
   ]
  },
  {
   "cell_type": "code",
   "execution_count": 79,
   "id": "e296aaa4",
   "metadata": {},
   "outputs": [
    {
     "data": {
      "text/plain": [
       "0.39622641509433965"
      ]
     },
     "execution_count": 79,
     "metadata": {},
     "output_type": "execute_result"
    }
   ],
   "source": [
    "B = (90 / st) * 0.7 / bayes_full_probability\n",
    "B"
   ]
  },
  {
   "cell_type": "code",
   "execution_count": 80,
   "id": "ecb74d12",
   "metadata": {},
   "outputs": [
    {
     "data": {
      "text/plain": [
       "0.22641509433962265"
      ]
     },
     "execution_count": 80,
     "metadata": {},
     "output_type": "execute_result"
    }
   ],
   "source": [
    "C = (45 / st) * 0.8 / fp\n",
    "C"
   ]
  },
  {
   "cell_type": "markdown",
   "id": "02f926ee",
   "metadata": {},
   "source": [
    "Факультет B"
   ]
  }
 ],
 "metadata": {
  "kernelspec": {
   "display_name": "Python 3",
   "language": "python",
   "name": "python3"
  },
  "language_info": {
   "codemirror_mode": {
    "name": "ipython",
    "version": 3
   },
   "file_extension": ".py",
   "mimetype": "text/x-python",
   "name": "python",
   "nbconvert_exporter": "python",
   "pygments_lexer": "ipython3",
   "version": "3.8.8"
  }
 },
 "nbformat": 4,
 "nbformat_minor": 5
}
