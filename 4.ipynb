{
 "cells": [
  {
   "cell_type": "markdown",
   "id": "54cc99ec",
   "metadata": {},
   "source": [
    "1. Случайная непрерывная величина A имеет равномерное распределение на промежутке (200, 800].\n",
    "Найдите ее среднее значение и дисперсию."
   ]
  },
  {
   "cell_type": "markdown",
   "id": "2d995c0e",
   "metadata": {},
   "source": [
    "M(A) = 800+200/2 = 500"
   ]
  },
  {
   "attachments": {},
   "cell_type": "markdown",
   "id": "0ab04bb5",
   "metadata": {},
   "source": [
    "D(A) = M(A^2)-(M(A))^2 = (b^2+ab+a^2)/3 - ((d+a)/2)^2 = (b-a)^2/12 = (800-200)^2/12 = 30000"
   ]
  },
  {
   "cell_type": "markdown",
   "id": "96c2b0ae",
   "metadata": {},
   "source": [
    "среднее значение 500\n",
    "дисперсия 30000"
   ]
  },
  {
   "cell_type": "markdown",
   "id": "0ca51b92",
   "metadata": {},
   "source": [
    "2. О случайной непрерывной равномерно распределенной величине B известно, что ее дисперсия равна 0.2.\n",
    "Можно ли найти правую границу величины B и ее среднее значение зная, что левая граница равна 0.5?\n",
    "Если да, найдите ее."
   ]
  },
  {
   "cell_type": "markdown",
   "id": "f2fc234b",
   "metadata": {},
   "source": [
    "0,2 = (b-0.5)^2/12\n",
    "b^2-b-2.15 = 0\n",
    "b ~ 2.05\n",
    "b ~-1.05 (не подходит по условию)\n",
    "\n",
    "M(B) ~ (2.05+0.5)/2 ~1.275"
   ]
  },
  {
   "cell_type": "markdown",
   "id": "58e9f5b6",
   "metadata": {},
   "source": [
    "правуя граница ~ 2.05\n",
    "среднее значение ~ 1.275"
   ]
  },
  {
   "cell_type": "markdown",
   "id": "a650d1ff",
   "metadata": {},
   "source": [
    "3. Непрерывная случайная величина X распределена нормально и задана плотностью распределения\n",
    "f(x) = (1 / (4 * sqrt(2*pi))) * (exp(-(x+2)**2) / 32).\n",
    "Найдите:\n",
    "а). M(X)\n",
    "б). D(X)\n",
    "в). std(X) (среднее квадратичное отклонение)\n"
   ]
  },
  {
   "cell_type": "markdown",
   "id": "821f78a7",
   "metadata": {},
   "source": [
    "f(x) = (1 / 4 * sqrt(2*pi)) * (exp(-(x+2)^2) / 32) = 1 / sqrt(2*pi*4^2) * exp(-(x-(-2))^2 / 2 * 4^2)"
   ]
  },
  {
   "cell_type": "markdown",
   "id": "cb89dc05",
   "metadata": {},
   "source": [
    "а). M(X) = -2\n",
    "б). D(X) = 16\n",
    "в). std(X) = 4"
   ]
  },
  {
   "cell_type": "markdown",
   "id": "ea79b2ee",
   "metadata": {},
   "source": [
    "4. Рост взрослого населения города X имеет нормальное распределение.\n",
    "Причем, средний рост равен 174 см, а среднее квадратичное отклонение равно 8 см.\n",
    "Какова вероятность того, что случайным образом выбранный взрослый человек имеет рост:\n",
    "а). больше 182 см\n",
    "б). больше 190 см\n",
    "в). от 166 см до 190 см\n",
    "г). от 166 см до 182 см\n",
    "д). от 158 см до 190 см\n",
    "е). не выше 150 см или не ниже 190 см\n",
    "ё). не выше 150 см или не ниже 198 см\n",
    "ж). ниже 166 см."
   ]
  },
  {
   "cell_type": "code",
   "execution_count": 1,
   "id": "c3c3a7c6",
   "metadata": {},
   "outputs": [
    {
     "data": {
      "image/png": "[encoded data removed]",
      "text/latex": [
       "$\\displaystyle \\frac{0.0883883476483184 e^{- \\frac{\\left(x - 174\\right)^{2}}{128}}}{\\pi^{0.5}}$"
      ],
      "text/plain": [
       "                                    2 \n",
       "                          -(x - 174)  \n",
       "                          ────────────\n",
       "                    -0.5      128     \n",
       "0.0883883476483184⋅π    ⋅ℯ            "
      ]
     },
     "execution_count": 1,
     "metadata": {},
     "output_type": "execute_result"
    }
   ],
   "source": [
    "from sympy import *\n",
    "\n",
    "\n",
    "init_printing()\n",
    "x=Symbol('x')\n",
    "f = (1 / ((2 * pi * 8 ** 2) ** 0.5)) * (exp(-((x - 174) ** 2) / (2 * 8 ** 2)))\n",
    "f"
   ]
  },
  {
   "cell_type": "code",
   "execution_count": 2,
   "id": "f8fea38c",
   "metadata": {},
   "outputs": [
    {
     "data": {
      "image/png": "[encoded data removed]",
      "text/latex": [
       "$\\displaystyle \\frac{0.353553390593274 \\left(- \\sqrt{2} \\sqrt{\\pi} \\operatorname{erf}{\\left(\\frac{\\sqrt{2}}{2} \\right)} + \\sqrt{2} \\sqrt{\\pi}\\right)}{\\pi^{0.5}}$"
      ],
      "text/plain": [
       "                   -0.5 ⎛           ⎛√2⎞        ⎞\n",
       "0.353553390593274⋅π    ⋅⎜- √2⋅√π⋅erf⎜──⎟ + √2⋅√π⎟\n",
       "                        ⎝           ⎝2 ⎠        ⎠"
      ]
     },
     "execution_count": 2,
     "metadata": {},
     "output_type": "execute_result"
    }
   ],
   "source": [
    "integrate(f,(x, 182, float('inf')))"
   ]
  },
  {
   "cell_type": "code",
   "execution_count": 3,
   "id": "2a51d806",
   "metadata": {},
   "outputs": [
    {
     "data": {
      "image/png": "[encoded data removed]",
      "text/latex": [
       "$\\displaystyle \\frac{0.707106781186547 \\left(- \\frac{\\sqrt{2} \\sqrt{\\pi} \\operatorname{erf}{\\left(\\sqrt{2} \\right)}}{2} + \\frac{\\sqrt{2} \\sqrt{\\pi}}{2}\\right)}{\\pi^{0.5}}$"
      ],
      "text/plain": [
       "                   -0.5 ⎛  √2⋅√π⋅erf(√2)   √2⋅√π⎞\n",
       "0.707106781186547⋅π    ⋅⎜- ───────────── + ─────⎟\n",
       "                        ⎝        2           2  ⎠"
      ]
     },
     "execution_count": 3,
     "metadata": {},
     "output_type": "execute_result"
    }
   ],
   "source": [
    "integrate(f,(x, 190, float('inf')))"
   ]
  },
  {
   "cell_type": "code",
   "execution_count": 4,
   "id": "4491ee85",
   "metadata": {},
   "outputs": [
    {
     "data": {
      "image/png": "[encoded data removed]",
      "text/latex": [
       "$\\displaystyle 0.353553390593274 \\sqrt{2} \\operatorname{erf}{\\left(\\frac{\\sqrt{2}}{2} \\right)} + 0.353553390593274 \\sqrt{2} \\operatorname{erf}{\\left(\\sqrt{2} \\right)}$"
      ],
      "text/plain": [
       "                        ⎛√2⎞                               \n",
       "0.353553390593274⋅√2⋅erf⎜──⎟ + 0.353553390593274⋅√2⋅erf(√2)\n",
       "                        ⎝2 ⎠                               "
      ]
     },
     "execution_count": 4,
     "metadata": {},
     "output_type": "execute_result"
    }
   ],
   "source": [
    "integrate(f,(x, 166, 190))"
   ]
  },
  {
   "cell_type": "code",
   "execution_count": 5,
   "id": "12699ecb",
   "metadata": {},
   "outputs": [
    {
     "data": {
      "image/png": "[encoded data removed]",
      "text/latex": [
       "$\\displaystyle 0.707106781186547 \\sqrt{2} \\operatorname{erf}{\\left(\\frac{\\sqrt{2}}{2} \\right)}$"
      ],
      "text/plain": [
       "                        ⎛√2⎞\n",
       "0.707106781186547⋅√2⋅erf⎜──⎟\n",
       "                        ⎝2 ⎠"
      ]
     },
     "execution_count": 5,
     "metadata": {},
     "output_type": "execute_result"
    }
   ],
   "source": [
    "integrate(f,(x, 166, 182))"
   ]
  },
  {
   "cell_type": "code",
   "execution_count": 6,
   "id": "ac760f51",
   "metadata": {},
   "outputs": [
    {
     "data": {
      "image/png": "[encoded data removed]",
      "text/latex": [
       "$\\displaystyle 0.707106781186547 \\sqrt{2} \\operatorname{erf}{\\left(\\sqrt{2} \\right)}$"
      ],
      "text/plain": [
       "0.707106781186547⋅√2⋅erf(√2)"
      ]
     },
     "execution_count": 6,
     "metadata": {},
     "output_type": "execute_result"
    }
   ],
   "source": [
    "integrate(f,(x, 158, 190))"
   ]
  },
  {
   "cell_type": "code",
   "execution_count": 7,
   "id": "69631421",
   "metadata": {},
   "outputs": [
    {
     "data": {
      "image/png": "[encoded data removed]",
      "text/latex": [
       "$\\displaystyle - 0.353553390593274 \\sqrt{2} \\operatorname{erf}{\\left(\\frac{3 \\sqrt{2}}{2} \\right)} + \\frac{0.707106781186547 \\left(- \\frac{\\sqrt{2} \\sqrt{\\pi} \\operatorname{erf}{\\left(\\sqrt{2} \\right)}}{2} + \\frac{\\sqrt{2} \\sqrt{\\pi}}{2}\\right)}{\\pi^{0.5}} + 0.353553390593274 \\sqrt{2} \\operatorname{erf}{\\left(\\frac{87 \\sqrt{2}}{8} \\right)}$"
      ],
      "text/plain": [
       "                          ⎛3⋅√2⎞                      -0.5 ⎛  √2⋅√π⋅erf(√2)   \n",
       "- 0.353553390593274⋅√2⋅erf⎜────⎟ + 0.707106781186547⋅π    ⋅⎜- ───────────── + \n",
       "                          ⎝ 2  ⎠                           ⎝        2         \n",
       "\n",
       "√2⋅√π⎞                           ⎛87⋅√2⎞\n",
       "─────⎟ + 0.353553390593274⋅√2⋅erf⎜─────⎟\n",
       "  2  ⎠                           ⎝  8  ⎠"
      ]
     },
     "execution_count": 7,
     "metadata": {},
     "output_type": "execute_result"
    }
   ],
   "source": [
    "integrate(f,(x, 0, 150)) + integrate(f,(x, 190, float('inf')))"
   ]
  },
  {
   "cell_type": "code",
   "execution_count": 8,
   "id": "b0ae62bc",
   "metadata": {},
   "outputs": [
    {
     "data": {
      "image/png": "[encoded data removed]",
      "text/latex": [
       "$\\displaystyle - 0.353553390593274 \\sqrt{2} \\operatorname{erf}{\\left(\\frac{3 \\sqrt{2}}{2} \\right)} + \\frac{1.06066017177982 \\left(- \\frac{\\sqrt{2} \\sqrt{\\pi} \\operatorname{erf}{\\left(\\frac{3 \\sqrt{2}}{2} \\right)}}{3} + \\frac{\\sqrt{2} \\sqrt{\\pi}}{3}\\right)}{\\pi^{0.5}} + 0.353553390593274 \\sqrt{2} \\operatorname{erf}{\\left(\\frac{87 \\sqrt{2}}{8} \\right)}$"
      ],
      "text/plain": [
       "                                                          ⎛           ⎛3⋅√2⎞  \n",
       "                                                          ⎜  √2⋅√π⋅erf⎜────⎟  \n",
       "                          ⎛3⋅√2⎞                     -0.5 ⎜           ⎝ 2  ⎠  \n",
       "- 0.353553390593274⋅√2⋅erf⎜────⎟ + 1.06066017177982⋅π    ⋅⎜- ─────────────── +\n",
       "                          ⎝ 2  ⎠                          ⎝         3         \n",
       "\n",
       "      ⎞                                  \n",
       "      ⎟                                  \n",
       " √2⋅√π⎟                           ⎛87⋅√2⎞\n",
       " ─────⎟ + 0.353553390593274⋅√2⋅erf⎜─────⎟\n",
       "   3  ⎠                           ⎝  8  ⎠"
      ]
     },
     "execution_count": 8,
     "metadata": {},
     "output_type": "execute_result"
    }
   ],
   "source": [
    "integrate(f,(x, 0, 150)) + integrate(f,(x, 198, float('inf')))"
   ]
  },
  {
   "cell_type": "code",
   "execution_count": 9,
   "id": "f30d56e9",
   "metadata": {},
   "outputs": [
    {
     "data": {
      "image/png": "[encoded data removed]",
      "text/latex": [
       "$\\displaystyle - 0.353553390593274 \\sqrt{2} \\operatorname{erf}{\\left(\\frac{\\sqrt{2}}{2} \\right)} + 0.353553390593274 \\sqrt{2} \\operatorname{erf}{\\left(\\frac{87 \\sqrt{2}}{8} \\right)}$"
      ],
      "text/plain": [
       "                          ⎛√2⎞                           ⎛87⋅√2⎞\n",
       "- 0.353553390593274⋅√2⋅erf⎜──⎟ + 0.353553390593274⋅√2⋅erf⎜─────⎟\n",
       "                          ⎝2 ⎠                           ⎝  8  ⎠"
      ]
     },
     "execution_count": 9,
     "metadata": {},
     "output_type": "execute_result"
    }
   ],
   "source": [
    "integrate(f,(x, 0, 166))"
   ]
  },
  {
   "cell_type": "markdown",
   "id": "6ca80792",
   "metadata": {},
   "source": [
    "а). ~ 0.1586\n",
    "б). ~ 0.0227\n",
    "в). ~ 0.8185\n",
    "г). ~ 0.6826\n",
    "д). ~ 0.9545\n",
    "е). ~ 0.0241\n",
    "ё). ~ 0.0027\n",
    "ж). ~ 0.1586"
   ]
  },
  {
   "cell_type": "markdown",
   "id": "1837205d",
   "metadata": {},
   "source": [
    "5. На сколько сигм (средних квадратичных отклонений) отклоняется рост человека, равный 190 см, от\n",
    "математического ожидания роста в популяции, в которой M(X) = 178 см и D(X) = 25 кв.см?"
   ]
  },
  {
   "cell_type": "markdown",
   "id": "d9b38e05",
   "metadata": {},
   "source": [
    "сигма = sqrt D = 5\n",
    "|178 - 190| / 5 = 2.4"
   ]
  },
  {
   "cell_type": "code",
   "execution_count": null,
   "id": "b2bd847a",
   "metadata": {},
   "outputs": [],
   "source": [
    "на 2,4 сигмы"
   ]
  }
 ],
 "metadata": {
  "kernelspec": {
   "display_name": "Python 3",
   "language": "python",
   "name": "python3"
  },
  "language_info": {
   "codemirror_mode": {
    "name": "ipython",
    "version": 3
   },
   "file_extension": ".py",
   "mimetype": "text/x-python",
   "name": "python",
   "nbconvert_exporter": "python",
   "pygments_lexer": "ipython3",
   "version": "3.8.8"
  }
 },
 "nbformat": 4,
 "nbformat_minor": 5
}
